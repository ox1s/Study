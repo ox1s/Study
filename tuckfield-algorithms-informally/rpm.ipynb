{
 "cells": [
  {
   "cell_type": "markdown",
   "id": "d4caebc4-85ce-4bf4-8f6d-ac4df91d8909",
   "metadata": {},
   "source": [
    "# Русское крестьянское умножение"
   ]
  },
  {
   "cell_type": "markdown",
   "id": "d997dae0-643b-432a-b7f1-4fcc5456b192",
   "metadata": {},
   "source": [
    "| Столбец деления | Столбец умножения |\n",
    "|:--:|:--:|\n",
    "| 89 | 18 |\n",
    "| 44 | 36 |\n",
    "| 22 | 72 |\n",
    "| 11 | 144 |\n",
    "| 5 | 288 |\n",
    "| 2 | 576 |\n",
    "| 1 | 1152 |\n",
    "\n",
    "Удаляем строки, где в первом столбце четные числа\n",
    "\n",
    "| Столбец деления | Столбец умножения |\n",
    "|:--:|:--:|\n",
    "| 89 | 18 |\n",
    "| 11 | 144 |\n",
    "| 5 | 288 |\n",
    "| 1 | 1152 |\n",
    "\n",
    "Ответ - это сложенные числа второго столбца\\\n",
    "`18 + 144 + 288 + 1152 = 1602`\n",
    "\n",
    "\n",
    "| № | Столбец деления | Столбец умножения |\n",
    "|:--:|:--|--:|\n",
    "|0.| $(2^5 + 2^3 + 2^2 ) × 2^1 + 2^0 = 2^6 + 2^4 + 2^3 + 2^0$ | $18 \\cdot 2^0$ |\n",
    "|1.| $2^5 + 2^3 + 2^2 $ | $18 \\cdot 2^1$ |\n",
    "|2.| $(2^3 + 2^1 + 2^0 ) × 2^1 = 2^4 + 2^2 + 2^1$ | $18 \\cdot 2^2$ |\n",
    "|3.| $(2^2 + 2^0 ) \\cdot 2^1 + 2^0 = 2^2 + 2^0$ | $18 \\cdot 2^3$ |\n",
    "|4.| $2^1 \\cdot 2^1 + 2^0 = 2^2 + 2^0$ | $18 \\cdot 2^4$ |\n",
    "|5.| $2^0 \\cdot 2^1 = 2^1$ | $18 \\cdot 2^5$ |\n",
    "|6.| $2^0$ | $18 \\cdot 2^6$ |"
   ]
  },
  {
   "cell_type": "markdown",
   "id": "aa51b688-7ebc-41f6-9d93-420798926725",
   "metadata": {},
   "source": [
    "## Реализация RPM на Python\n",
    "\n",
    "1. Не очень эффективный с 89 на первом месте:"
   ]
  },
  {
   "cell_type": "code",
   "execution_count": 7,
   "id": "c930d920-e93e-457a-91be-034ffcffba82",
   "metadata": {},
   "outputs": [
    {
     "name": "stdout",
     "output_type": "stream",
     "text": [
      "RPM = 1602 \n",
      "Проверка: 1602\n"
     ]
    }
   ],
   "source": [
    "import math\n",
    "import pandas as pd\n",
    "\n",
    "n1 = 89\n",
    "n2 = 18\n",
    "\n",
    "halving = [n1]\n",
    "while (min(halving) > 1):\n",
    "    halving.append(math.floor(min(halving)/2))\n",
    "\n",
    "doubling = [n2]\n",
    "while (len(doubling) < len(halving)):\n",
    "    doubling.append(max(doubling) * 2)\n",
    "\n",
    "half_double = pd.DataFrame(zip(halving,doubling))\n",
    "# оставляем только нечетные значения\n",
    "half_double = half_double.loc[half_double[0]%2 == 1,:]\n",
    "answer = sum(half_double.loc[:,1])\n",
    "\n",
    "print(f\"RPM = {answer} \\nПроверка: {n1*n2}\")"
   ]
  },
  {
   "cell_type": "markdown",
   "id": "c34eaf42-4753-4a82-8808-b28d119ebeaf",
   "metadata": {},
   "source": [
    " 2. Эффективнее ставить большее число на умножение"
   ]
  },
  {
   "cell_type": "code",
   "execution_count": 8,
   "id": "04b4b0fa-36f0-41ae-ade3-180310d6911b",
   "metadata": {},
   "outputs": [
    {
     "name": "stdout",
     "output_type": "stream",
     "text": [
      "RPM = 1602 \n",
      "Проверка: 1602\n"
     ]
    }
   ],
   "source": [
    "import math\n",
    "import pandas as pd\n",
    "\n",
    "n1 = 89\n",
    "n2 = 18\n",
    "\n",
    "halving = [n2]\n",
    "while (min(halving) > 1):\n",
    "    halving.append(math.floor(min(halving)/2))\n",
    "\n",
    "doubling = [n1]\n",
    "while (len(doubling) < len(halving)):\n",
    "    doubling.append(max(doubling) * 2)\n",
    "\n",
    "half_double = pd.DataFrame(zip(halving,doubling))\n",
    "# оставляем только нечетные значения\n",
    "half_double = half_double.loc[half_double[0]%2 == 1,:]\n",
    "answer = sum(half_double.loc[:,1])\n",
    "\n",
    "print(f\"RPM = {answer} \\nПроверка: {n1*n2}\")"
   ]
  },
  {
   "cell_type": "code",
   "execution_count": null,
   "id": "f81e447b-4e76-47b6-972b-3e1806c27d02",
   "metadata": {},
   "outputs": [],
   "source": []
  }
 ],
 "metadata": {
  "kernelspec": {
   "display_name": "Python 3 (ipykernel)",
   "language": "python",
   "name": "python3"
  },
  "language_info": {
   "codemirror_mode": {
    "name": "ipython",
    "version": 3
   },
   "file_extension": ".py",
   "mimetype": "text/x-python",
   "name": "python",
   "nbconvert_exporter": "python",
   "pygments_lexer": "ipython3",
   "version": "3.13.5"
  }
 },
 "nbformat": 4,
 "nbformat_minor": 5
}
