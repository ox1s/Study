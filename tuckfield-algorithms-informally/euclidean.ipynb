{
 "cells": [
  {
   "cell_type": "markdown",
   "id": "d7401fec-8daf-430e-b0b8-4f4fcc482215",
   "metadata": {},
   "source": [
    "# Алгоритм Евклида"
   ]
  },
  {
   "cell_type": "code",
   "execution_count": 3,
   "id": "cc6a54f5-be34-408f-8404-600f6e855c8d",
   "metadata": {},
   "outputs": [
    {
     "name": "stdout",
     "output_type": "stream",
     "text": [
      "gcd(544,19) = 1\n"
     ]
    }
   ],
   "source": [
    "def gcd(x,y):\n",
    "    larger = max(x,y)\n",
    "    smaller = min(x,y)\n",
    "\n",
    "    remainder = larger % smaller\n",
    "\n",
    "    if(remainder == 0):\n",
    "        return(smaller)\n",
    "\n",
    "    if(remainder != 0):\n",
    "        return(gcd(smaller,remainder))\n",
    "\n",
    "print(f\"gcd(544,19) = {gcd(544,19)}\") "
   ]
  }
 ],
 "metadata": {
  "kernelspec": {
   "display_name": "Python 3 (ipykernel)",
   "language": "python",
   "name": "python3"
  },
  "language_info": {
   "codemirror_mode": {
    "name": "ipython",
    "version": 3
   },
   "file_extension": ".py",
   "mimetype": "text/x-python",
   "name": "python",
   "nbconvert_exporter": "python",
   "pygments_lexer": "ipython3",
   "version": "3.13.5"
  }
 },
 "nbformat": 4,
 "nbformat_minor": 5
}
